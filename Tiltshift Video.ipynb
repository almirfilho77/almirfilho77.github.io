{
 "cells": [
  {
   "cell_type": "markdown",
   "metadata": {},
   "source": [
    "# Tiltshift video\n",
    "\n",
    "Autor: Almir Soares Firmo Filho\n",
    "\n",
    "O objetivo desse notebook é aplicar o código Tiltshift à um vídeo para dar a ele o efeito de miniatura. Além disso, apesar de exibir o vídeo em numa determinada taxa (digamos, 60 quadros por segundo), ocorre a repetição de um mesmo frame por mais de um tempo de quadro, para dar a sensação de um vídeo stop motion.\n",
    "\n",
    "O ponto de partida será um vídeo feito de um dos lugares mais visitados de longe: a Tower Bridge."
   ]
  },
  {
   "cell_type": "code",
   "execution_count": 20,
   "metadata": {},
   "outputs": [
    {
     "data": {
      "text/html": [
       "\n",
       "        <iframe\n",
       "            width=\"400\"\n",
       "            height=\"300\"\n",
       "            src=\"https://www.youtube.com/embed/QbaLdeu-l9o\"\n",
       "            frameborder=\"0\"\n",
       "            allowfullscreen\n",
       "        ></iframe>\n",
       "        "
      ],
      "text/plain": [
       "<IPython.lib.display.YouTubeVideo at 0x2613fe485b0>"
      ]
     },
     "execution_count": 20,
     "metadata": {},
     "output_type": "execute_result"
    }
   ],
   "source": [
    "from IPython.display import YouTubeVideo\n",
    "\n",
    "YouTubeVideo('QbaLdeu-l9o')"
   ]
  },
  {
   "cell_type": "markdown",
   "metadata": {},
   "source": [
    "Utilizaremos o efeito de Tiltshift para tentar fazer com que a cena se pareça com um vídeo capturado a partir de uma miniatura (ou uma maquete) da cidade de Londres.\n",
    "\n",
    "Portanto, começaremos importando as bibliotecas necessárias:"
   ]
  },
  {
   "cell_type": "code",
   "execution_count": null,
   "metadata": {},
   "outputs": [],
   "source": [
    "# Importar bibliotecas\n",
    "import cv2 as cv\n",
    "import numpy as np"
   ]
  },
  {
   "cell_type": "markdown",
   "metadata": {},
   "source": [
    "Declararemos agora um objeto de captura de vídeo, que pode ser uma webcam, por exemplo, ou como nesse caso um vídeo local:"
   ]
  },
  {
   "cell_type": "code",
   "execution_count": null,
   "metadata": {},
   "outputs": [],
   "source": [
    "# Criar objeto de captura de vídeo\n",
    "cap = cv.VideoCapture('london_2.mkv')"
   ]
  },
  {
   "cell_type": "markdown",
   "metadata": {},
   "source": [
    "A partir desse objeto podemos definir variáveis importantes a respeito do vídeo, como altura e largura dos frames:"
   ]
  },
  {
   "cell_type": "code",
   "execution_count": null,
   "metadata": {},
   "outputs": [],
   "source": [
    "# Definir altura e largura dos frames com base no objeto 'cap'\n",
    "width = int(cap.get(3))\n",
    "height = int(cap.get(4))"
   ]
  },
  {
   "cell_type": "markdown",
   "metadata": {},
   "source": [
    "Definimos, portanto, os parâmetros do efeito de tiltshift:"
   ]
  },
  {
   "cell_type": "code",
   "execution_count": null,
   "metadata": {},
   "outputs": [],
   "source": [
    "# Definir parâmetros do tiltshift\n",
    "d = 2\n",
    "L = (65/100)*height\n",
    "L1 = L/2\n",
    "L2 = height - L1\n",
    "C = -50"
   ]
  },
  {
   "cell_type": "markdown",
   "metadata": {},
   "source": [
    "Criamos a matriz $\\alpha(x)$:"
   ]
  },
  {
   "cell_type": "code",
   "execution_count": null,
   "metadata": {},
   "outputs": [],
   "source": [
    "# Criar matriz Alpha\n",
    "x = np.arange(0,height,1)\n",
    "alpha = (np.tanh((x-L1-C)/d) - np.tanh((x-L2-C)/d))/2\n",
    "alpha = alpha.reshape(-1,1,1)\n",
    "alpha_mat = np.tile(alpha,(1,width,3))"
   ]
  },
  {
   "cell_type": "markdown",
   "metadata": {},
   "source": [
    "Agora definimos o objeto de captura de vídeo, no qual especificamos:\n",
    "\n",
    "- Nome do vídeo;\n",
    "- Tipo de codec;\n",
    "- FPS;\n",
    "- Altura e largura do vídeo;"
   ]
  },
  {
   "cell_type": "code",
   "execution_count": null,
   "metadata": {},
   "outputs": [],
   "source": [
    "# Criar objeto \"escritor de vídeo\"\n",
    "out = cv.VideoWriter('london_stopMotion.mkv',cv.VideoWriter_fourcc('M','J','P','G'), 60, (width,height))"
   ]
  },
  {
   "cell_type": "markdown",
   "metadata": {},
   "source": [
    "Agora, na função principal, escolhemos alguns frames para exibir na saída por mais tempo do que o tempo de um quadro e após o último frame ser processado tanto o objeto escritor de vídeo quando o objeto de captura são dispensados."
   ]
  },
  {
   "cell_type": "code",
   "execution_count": null,
   "metadata": {},
   "outputs": [],
   "source": [
    "# Iniciar variável de controle para atualização de frame de saída\n",
    "show_frame = 0\n",
    "\n",
    "while(cap.isOpened()):\n",
    "    \n",
    "    # Recebe confirmação de que há frames ainda a serem lidos (ret) e o frame em si (frame) a partir do objeto de captura\n",
    "    ret, frame = cap.read()\n",
    "    \n",
    "    # Sai do loop caso todos os frames tenham sido lidos\n",
    "    if ret == False:\n",
    "        break\n",
    "\n",
    "    # Processa e atualiza o frame que será escrito a cada 6 tempos de quadro\n",
    "    if show_frame == 0:\n",
    "        frame1 = frame.copy()\n",
    "        proc_frame = np.multiply(alpha_mat,frame1) + np.multiply(1 - alpha_mat,cv.blur(frame1, (5,5)))\n",
    "        proc_frame = proc_frame.astype(np.uint8)\n",
    "\n",
    "    if show_frame < 6:\n",
    "        show_frame += 1\n",
    "    else:\n",
    "        show_frame = 0\n",
    "\n",
    "    # Escreve o frame processado no arquivo de saída\n",
    "    out.write(proc_frame)\n",
    "\n",
    "# Libera os objetos criados\n",
    "out.release()\n",
    "cap.release()"
   ]
  },
  {
   "cell_type": "markdown",
   "metadata": {},
   "source": [
    "Ao fim, temos como saída o seguinte vídeo:"
   ]
  },
  {
   "cell_type": "code",
   "execution_count": 21,
   "metadata": {},
   "outputs": [
    {
     "data": {
      "image/jpeg": "[encoded data removed]",
      "text/html": [
       "\n",
       "        <iframe\n",
       "            width=\"400\"\n",
       "            height=\"300\"\n",
       "            src=\"https://www.youtube.com/embed/_0YRLHUrAAs\"\n",
       "            frameborder=\"0\"\n",
       "            allowfullscreen\n",
       "        ></iframe>\n",
       "        "
      ],
      "text/plain": [
       "<IPython.lib.display.YouTubeVideo at 0x2613fe486a0>"
      ]
     },
     "execution_count": 21,
     "metadata": {},
     "output_type": "execute_result"
    }
   ],
   "source": [
    "YouTubeVideo('_0YRLHUrAAs')"
   ]
  }
 ],
 "metadata": {
  "kernelspec": {
   "display_name": "Python 3",
   "language": "python",
   "name": "python3"
  },
  "language_info": {
   "codemirror_mode": {
    "name": "ipython",
    "version": 3
   },
   "file_extension": ".py",
   "mimetype": "text/x-python",
   "name": "python",
   "nbconvert_exporter": "python",
   "pygments_lexer": "ipython3",
   "version": "3.8.6"
  }
 },
 "nbformat": 4,
 "nbformat_minor": 4
}
