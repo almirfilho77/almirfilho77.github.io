{
 "cells": [
  {
   "cell_type": "code",
   "execution_count": null,
   "metadata": {},
   "outputs": [],
   "source": [
    "# Importar OpenCV\n",
    "import cv2 as cv\n",
    "import numpy as np\n",
    "import matplotlib.pyplot as plt"
   ]
  },
  {
   "cell_type": "code",
   "execution_count": null,
   "metadata": {},
   "outputs": [],
   "source": [
    "# Definir função 'dummy'\n",
    "def passFunction(x):\n",
    "    pass"
   ]
  },
  {
   "cell_type": "code",
   "execution_count": null,
   "metadata": {},
   "outputs": [],
   "source": [
    "# Criar nome da janela\n",
    "window_title = 'Tilted image'\n",
    "cv.namedWindow(window_title)\n",
    "\n",
    "# Importar imagem e criar duas imagens a partir da imagem de base: sem borramento e com borramento\n",
    "image = cv.imread('handwriting.jpg', cv.IMREAD_COLOR)\n",
    "\n",
    "image1 = image.copy()\n",
    "image2 = cv.blur(image, (5,5))"
   ]
  },
  {
   "cell_type": "code",
   "execution_count": null,
   "metadata": {},
   "outputs": [],
   "source": [
    "# Creação das trackbars\n",
    "\n",
    "d_val_max = 100\n",
    "trackbar_d = 'Suavidade'\n",
    "cv.createTrackbar(trackbar_d, window_title , 0, d_val_max, passFunction)\n",
    "\n",
    "trackbar_L = 'Tamanho'\n",
    "cv.createTrackbar(trackbar_L, window_title, 0, image.shape[0], passFunction)\n",
    "\n",
    "trackbar_C = 'Centro'\n",
    "cv.createTrackbar(trackbar_C, window_title, int(image.shape[0]/2), int(image.shape[0]), passFunction)"
   ]
  },
  {
   "cell_type": "code",
   "execution_count": null,
   "metadata": {},
   "outputs": [],
   "source": [
    "# Criar variável para inicializar janela pós processada\n",
    "first_pass = 1"
   ]
  },
  {
   "cell_type": "code",
   "execution_count": null,
   "metadata": {},
   "outputs": [],
   "source": [
    "# Criar função principal\n",
    "while(True):\n",
    "    \n",
    "    # Exibir imagem sem borramento se for a primeira passagem do programa\n",
    "    if first_pass == 1:\n",
    "        cv.imshow(window_title,image)\n",
    "    else:\n",
    "        # Exibir imagem com borramento após a primeira passagem\n",
    "        cv.imshow(window_title,tilted)\n",
    "\n",
    "    # Caso seja pressionado o botão ESC sair do programa\n",
    "    k = cv.waitKey(1) & 0xFF\n",
    "    if k == 27:\n",
    "        break\n",
    "\n",
    "    # L é o tamanho da parte borrada da imagem\n",
    "    L = cv.getTrackbarPos(trackbar_L,window_title)\n",
    "    \n",
    "    # Definição de L1 e L2 que dizem respeito à linha onde o borramento termina com relação à linha 0\n",
    "    L1 = L/2\n",
    "    L1 = max(0,L1)\n",
    "    L2 = image.shape[0]-L1\n",
    "\n",
    "    # Definição de d como suavidade do borramento\n",
    "    d = cv.getTrackbarPos(trackbar_d,window_title)\n",
    "    \n",
    "    # Ajuste do valor mínimo de d para não dividir por zero\n",
    "    d = 0.01+d\n",
    "    \n",
    "    # Definição do centro do foco, começando na linha 0 e indo até a última linha\n",
    "    C = cv.getTrackbarPos(trackbar_C,window_title)\n",
    "    C = C - image.shape[0]/2\n",
    "    if C < 0:\n",
    "        C = max(C,-L1)\n",
    "    else:\n",
    "        C = min(C,L1)\n",
    "\n",
    "    # Criação da função alpha(x)\n",
    "    x = np.arange(0,image1.shape[0],1)\n",
    "    alpha = (np.tanh((x-L1-C)/d) - np.tanh((x-L2-C)/d))/2\n",
    "\n",
    "    # Plot da função alpha(x)\n",
    "    _ = plt.plot(x,alpha)\n",
    "    plt.show()\n",
    "\n",
    "    # Ajuste necessário para operar sobre a matriz da imagem\n",
    "    alpha = alpha.reshape(-1,1,1)\n",
    "    alpha_mat = np.tile(alpha,(1,image1.shape[1],image1.shape[2]))\n",
    "    beta_mat = 1-alpha_mat\n",
    "    \n",
    "    # Criação da imagem de saída a partir de alpha e das imagens de entrada (com e sem borramento)\n",
    "    tilted = np.multiply(alpha_mat,image1) + np.multiply(beta_mat,image2)\n",
    "    tilted = tilted.astype(np.uint8)\n",
    "\n",
    "    # Modificar a variável após primeira passagem\n",
    "    first_pass = 0\n",
    "\n",
    "# Fechar as janelas ao sair do programa\n",
    "cv.destroyAllWindows()"
   ]
  }
 ],
 "metadata": {
  "kernelspec": {
   "display_name": "Python 3",
   "language": "python",
   "name": "python3"
  },
  "language_info": {
   "codemirror_mode": {
    "name": "ipython",
    "version": 3
   },
   "file_extension": ".py",
   "mimetype": "text/x-python",
   "name": "python",
   "nbconvert_exporter": "python",
   "pygments_lexer": "ipython3",
   "version": "3.8.6"
  }
 },
 "nbformat": 4,
 "nbformat_minor": 4
}
